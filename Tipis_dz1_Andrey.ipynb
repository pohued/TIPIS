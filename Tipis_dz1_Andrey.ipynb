{
 "cells": [
  {
   "cell_type": "code",
   "execution_count": 95,
   "id": "188f8d57-dcb4-4e76-b6c6-ceff2453128e",
   "metadata": {},
   "outputs": [],
   "source": [
    "import pandas as pd\n",
    "import numpy as np"
   ]
  },
  {
   "cell_type": "code",
   "execution_count": 96,
   "id": "555fef58-14d5-491a-bf5f-fdaddfceeceb",
   "metadata": {},
   "outputs": [
    {
     "data": {
      "text/html": [
       "<div>\n",
       "<style scoped>\n",
       "    .dataframe tbody tr th:only-of-type {\n",
       "        vertical-align: middle;\n",
       "    }\n",
       "\n",
       "    .dataframe tbody tr th {\n",
       "        vertical-align: top;\n",
       "    }\n",
       "\n",
       "    .dataframe thead th {\n",
       "        text-align: right;\n",
       "    }\n",
       "</style>\n",
       "<table border=\"1\" class=\"dataframe\">\n",
       "  <thead>\n",
       "    <tr style=\"text-align: right;\">\n",
       "      <th></th>\n",
       "      <th>age</th>\n",
       "      <th>workclass</th>\n",
       "      <th>fnlwgt</th>\n",
       "      <th>education</th>\n",
       "      <th>education-num</th>\n",
       "      <th>marital-status</th>\n",
       "      <th>occupation</th>\n",
       "      <th>relationship</th>\n",
       "      <th>race</th>\n",
       "      <th>sex</th>\n",
       "      <th>capital-gain</th>\n",
       "      <th>capital-loss</th>\n",
       "      <th>hours-per-week</th>\n",
       "      <th>native-country</th>\n",
       "      <th>income</th>\n",
       "    </tr>\n",
       "  </thead>\n",
       "  <tbody>\n",
       "    <tr>\n",
       "      <th>0</th>\n",
       "      <td>39</td>\n",
       "      <td>State-gov</td>\n",
       "      <td>77516</td>\n",
       "      <td>Bachelors</td>\n",
       "      <td>13</td>\n",
       "      <td>Never-married</td>\n",
       "      <td>Adm-clerical</td>\n",
       "      <td>Not-in-family</td>\n",
       "      <td>White</td>\n",
       "      <td>Male</td>\n",
       "      <td>2174</td>\n",
       "      <td>0</td>\n",
       "      <td>40</td>\n",
       "      <td>United-States</td>\n",
       "      <td>&lt;=50K</td>\n",
       "    </tr>\n",
       "    <tr>\n",
       "      <th>1</th>\n",
       "      <td>50</td>\n",
       "      <td>Self-emp-not-inc</td>\n",
       "      <td>83311</td>\n",
       "      <td>Bachelors</td>\n",
       "      <td>13</td>\n",
       "      <td>Married-civ-spouse</td>\n",
       "      <td>Exec-managerial</td>\n",
       "      <td>Husband</td>\n",
       "      <td>White</td>\n",
       "      <td>Male</td>\n",
       "      <td>0</td>\n",
       "      <td>0</td>\n",
       "      <td>13</td>\n",
       "      <td>United-States</td>\n",
       "      <td>&lt;=50K</td>\n",
       "    </tr>\n",
       "    <tr>\n",
       "      <th>2</th>\n",
       "      <td>38</td>\n",
       "      <td>Private</td>\n",
       "      <td>215646</td>\n",
       "      <td>HS-grad</td>\n",
       "      <td>9</td>\n",
       "      <td>Divorced</td>\n",
       "      <td>Handlers-cleaners</td>\n",
       "      <td>Not-in-family</td>\n",
       "      <td>White</td>\n",
       "      <td>Male</td>\n",
       "      <td>0</td>\n",
       "      <td>0</td>\n",
       "      <td>40</td>\n",
       "      <td>United-States</td>\n",
       "      <td>&lt;=50K</td>\n",
       "    </tr>\n",
       "    <tr>\n",
       "      <th>3</th>\n",
       "      <td>53</td>\n",
       "      <td>Private</td>\n",
       "      <td>234721</td>\n",
       "      <td>11th</td>\n",
       "      <td>7</td>\n",
       "      <td>Married-civ-spouse</td>\n",
       "      <td>Handlers-cleaners</td>\n",
       "      <td>Husband</td>\n",
       "      <td>Black</td>\n",
       "      <td>Male</td>\n",
       "      <td>0</td>\n",
       "      <td>0</td>\n",
       "      <td>40</td>\n",
       "      <td>United-States</td>\n",
       "      <td>&lt;=50K</td>\n",
       "    </tr>\n",
       "    <tr>\n",
       "      <th>4</th>\n",
       "      <td>28</td>\n",
       "      <td>Private</td>\n",
       "      <td>338409</td>\n",
       "      <td>Bachelors</td>\n",
       "      <td>13</td>\n",
       "      <td>Married-civ-spouse</td>\n",
       "      <td>Prof-specialty</td>\n",
       "      <td>Wife</td>\n",
       "      <td>Black</td>\n",
       "      <td>Female</td>\n",
       "      <td>0</td>\n",
       "      <td>0</td>\n",
       "      <td>40</td>\n",
       "      <td>Cuba</td>\n",
       "      <td>&lt;=50K</td>\n",
       "    </tr>\n",
       "  </tbody>\n",
       "</table>\n",
       "</div>"
      ],
      "text/plain": [
       "   age          workclass  fnlwgt   education  education-num  \\\n",
       "0   39          State-gov   77516   Bachelors             13   \n",
       "1   50   Self-emp-not-inc   83311   Bachelors             13   \n",
       "2   38            Private  215646     HS-grad              9   \n",
       "3   53            Private  234721        11th              7   \n",
       "4   28            Private  338409   Bachelors             13   \n",
       "\n",
       "        marital-status          occupation    relationship    race      sex  \\\n",
       "0        Never-married        Adm-clerical   Not-in-family   White     Male   \n",
       "1   Married-civ-spouse     Exec-managerial         Husband   White     Male   \n",
       "2             Divorced   Handlers-cleaners   Not-in-family   White     Male   \n",
       "3   Married-civ-spouse   Handlers-cleaners         Husband   Black     Male   \n",
       "4   Married-civ-spouse      Prof-specialty            Wife   Black   Female   \n",
       "\n",
       "   capital-gain  capital-loss  hours-per-week  native-country  income  \n",
       "0          2174             0              40   United-States   <=50K  \n",
       "1             0             0              13   United-States   <=50K  \n",
       "2             0             0              40   United-States   <=50K  \n",
       "3             0             0              40   United-States   <=50K  \n",
       "4             0             0              40            Cuba   <=50K  "
      ]
     },
     "execution_count": 96,
     "metadata": {},
     "output_type": "execute_result"
    }
   ],
   "source": [
    "Df = pd.read_csv('adult.data', header=None)\n",
    "Df.columns = ['age', 'workclass', 'fnlwgt', 'education', 'education-num',\n",
    "              'marital-status', 'occupation', 'relationship', 'race', 'sex',\n",
    "              'capital-gain', 'capital-loss', 'hours-per-week', 'native-country', 'income']\n",
    "Df.head()"
   ]
  },
  {
   "cell_type": "markdown",
   "id": "dc31e038-fcf9-4204-950c-a8d0d5598d6c",
   "metadata": {},
   "source": [
    "1) Найти количество столбцов"
   ]
  },
  {
   "cell_type": "code",
   "execution_count": 97,
   "id": "e5868c85-104c-4f06-9f0c-758838e25905",
   "metadata": {},
   "outputs": [],
   "source": [
    "columns = Df.shape[1]"
   ]
  },
  {
   "cell_type": "markdown",
   "id": "4ebf1e2b-0363-40e8-8708-74164063b231",
   "metadata": {},
   "source": [
    "2) Найти пропуски и указать в каких столбцах"
   ]
  },
  {
   "cell_type": "code",
   "execution_count": 98,
   "id": "b5f6a19f-4e8e-40b6-b09c-d59461dcc513",
   "metadata": {},
   "outputs": [],
   "source": [
    "Task_Сolumns = []\n",
    "for column in Df.columns:\n",
    "    if Df[column].isin([' ?']).any():\n",
    "        Task_Сolumns.append(column)"
   ]
  },
  {
   "cell_type": "markdown",
   "id": "a519c112-9096-4dab-82c4-ce9346acfea3",
   "metadata": {},
   "source": [
    "3) Найти количество уникальных значений в столбце race"
   ]
  },
  {
   "cell_type": "code",
   "execution_count": 99,
   "id": "b7237226-d5ea-47df-ab0b-6c6398f977fd",
   "metadata": {},
   "outputs": [],
   "source": [
    "unique_races = Df['race'].nunique()"
   ]
  },
  {
   "cell_type": "markdown",
   "id": "6d30a39e-fa54-4aa9-a8a2-4df0b8e63b99",
   "metadata": {},
   "source": [
    "4) Найти медиану hours-per-week"
   ]
  },
  {
   "cell_type": "code",
   "execution_count": 100,
   "id": "8d7019fc-6488-41a0-a09f-25af4270968f",
   "metadata": {},
   "outputs": [],
   "source": [
    "median_hours = Df['hours-per-week'].median()"
   ]
  },
  {
   "cell_type": "markdown",
   "id": "ec647a8b-cd6f-4a90-87b4-0787d24bffdf",
   "metadata": {},
   "source": [
    "5) Кого больше с ЗП >50K, мужчин или женщин "
   ]
  },
  {
   "cell_type": "code",
   "execution_count": 101,
   "id": "21a45c5e-6d8b-4704-9f1c-463de68f0171",
   "metadata": {},
   "outputs": [],
   "source": [
    "High_Income = Df['income'] == ' >50K'\n",
    "Men_Salary = Df[High_Income]['sex'].value_counts()[' Male']\n",
    "Women_Salary = Df[High_Income]['sex'].value_counts()[' Female']\n",
    "Who_wins = str()\n",
    "if Men_Salary > Women_Salary:\n",
    "    Who_wins = \"Больше мужчин с ЗП > 50K\"\n",
    "elif Women_Salary > Men_Salary:\n",
    "    Who_wins = \"Больше женщин с ЗП > 50K\"\n",
    "else:\n",
    "    Who_wins = \"Мужчин и женщин с ЗП > 50K поровну\""
   ]
  },
  {
   "cell_type": "markdown",
   "id": "a6a54b09-0a68-46c0-973d-0cbf8faf9247",
   "metadata": {},
   "source": [
    "6) Заполнить пропущенные данные в отдельных столбцах с наиболее встречаемыми значениями."
   ]
  },
  {
   "cell_type": "code",
   "execution_count": 102,
   "id": "a03b7c3a-8a18-486a-9d4d-53bd81a1a6ef",
   "metadata": {},
   "outputs": [
    {
     "name": "stdout",
     "output_type": "stream",
     "text": [
      "age               0\n",
      "workclass         0\n",
      "fnlwgt            0\n",
      "education         0\n",
      "education-num     0\n",
      "marital-status    0\n",
      "occupation        0\n",
      "relationship      0\n",
      "race              0\n",
      "sex               0\n",
      "capital-gain      0\n",
      "capital-loss      0\n",
      "hours-per-week    0\n",
      "native-country    0\n",
      "income            0\n",
      "dtype: int64\n"
     ]
    }
   ],
   "source": [
    "for column in Df.columns:\n",
    "    if Df[column].isnull().sum() > 0:\n",
    "        mode_value = Df[column].mode()[0]\n",
    "        df[column] = Df[column].fillna(mode_value) \n",
    "print(Df.isnull().sum())"
   ]
  },
  {
   "cell_type": "markdown",
   "id": "e2436c01-bc80-4299-9b65-3821e986c22d",
   "metadata": {},
   "source": [
    "Последняя ячейка: ответ"
   ]
  },
  {
   "cell_type": "code",
   "execution_count": 103,
   "id": "94a0d0a6-0a77-41f8-9087-569275b3255d",
   "metadata": {},
   "outputs": [
    {
     "name": "stdout",
     "output_type": "stream",
     "text": [
      "1) Сколько всего столбцов: 15\n",
      "2) Наличие пропусков в данных и в каких столбцах:\n",
      "workclass: 1836\n",
      "occupation: 1843\n",
      "native-country: 583\n",
      "3) Уникальных значений в столбце 'race': 5\n",
      "4) Медиана hours-per-week: 40.0\n",
      "5) Больше мужчин с ЗП > 50K\n",
      "6) Для заполнения недостающих данных можно использовать моду, медиану, интерполяцию и т.д.\n"
     ]
    }
   ],
   "source": [
    "print(\"1) Сколько всего столбцов:\", columns)\n",
    "print(\"2) Наличие пропусков в данных и в каких столбцах:\")\n",
    "if len(Task_Сolumns) == 0:\n",
    "    print(\"Все столбцы без пропусков\")\n",
    "else:\n",
    "    for column in Task_Сolumns:\n",
    "        print(column + \": \" + str(Df[Df[column] == ' ?'].shape[0]))\n",
    "print(\"3) Уникальных значений в столбце 'race':\", unique_races)\n",
    "print(\"4) Медиана hours-per-week:\", median_hours)\n",
    "print(\"5)\",Who_wins)\n",
    "print(\"6) Для заполнения недостающих данных можно использовать моду, медиану, интерполяцию и т.д.\")"
   ]
  }
 ],
 "metadata": {
  "kernelspec": {
   "display_name": "Python 3 (ipykernel)",
   "language": "python",
   "name": "python3"
  },
  "language_info": {
   "codemirror_mode": {
    "name": "ipython",
    "version": 3
   },
   "file_extension": ".py",
   "mimetype": "text/x-python",
   "name": "python",
   "nbconvert_exporter": "python",
   "pygments_lexer": "ipython3",
   "version": "3.12.6"
  }
 },
 "nbformat": 4,
 "nbformat_minor": 5
}
